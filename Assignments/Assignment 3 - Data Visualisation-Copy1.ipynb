{
 "cells": [
  {
   "cell_type": "markdown",
   "metadata": {},
   "source": [
    "# General requirements for the assignment\n",
    "\n",
    "- Make appropriate comments to your code\n",
    "- Use Markdown cells to provide your answers (when applicable)\n",
    "- Add your code when there is the comment \"YOUR CODE HERE\".\n",
    "- Stick to Pep8 standard as much as possible for your coding\n",
    "- Tag the commit as *Final submission of Assignment 3*\n",
    "- Submit through GitHub\n",
    "- Provide your GitHub url to the Ipython notebook as the submisison for Brightspace assignment 3\n",
    "- Post (interesting) errors in the course Github's issue page\n",
    "\n",
    "# Assignment Intro\n",
    "\n",
    "In this assignment, you will be asked to make some visualisations on the dataset that you worked with in the previous assignments.\n",
    "\n",
    "### DEADLINE FOR THIS ASSIGNMENT IS 15 OCTOBER 2021 BEFORE 23:59\n",
    "\n",
    "<hr />"
   ]
  },
  {
   "cell_type": "markdown",
   "metadata": {
    "heading_collapsed": true
   },
   "source": [
    "## Import libraries\n",
    "Update this list as you go along the assigment"
   ]
  },
  {
   "cell_type": "code",
   "execution_count": 30,
   "metadata": {
    "hidden": true
   },
   "outputs": [],
   "source": [
    "# YOUR CODE HERE\n",
    "# import libraries\n",
    "import matplotlib.pyplot as plt\n",
    "import seaborn as sns\n",
    "import pandas as pd\n",
    "from scipy.signal import find_peaks\n",
    "import time"
   ]
  },
  {
   "cell_type": "markdown",
   "metadata": {},
   "source": [
    "## Activities changes\n",
    "\n",
    "Use the dataset that you have been working on in the previous assignments. Pick either a city or a province, then recreate the diagram for one of the activities, similar to those that are shown in [Google mobility reports](https://www.gstatic.com/covid19/mobility/2021-09-28_AW_Mobility_Report_en.pdf) or as below.\n",
    "\n",
    "<img src=\"Images/Transit_changes.png\" alt=\"drawing\" width=\"600\"/>"
   ]
  },
  {
   "cell_type": "markdown",
   "metadata": {},
   "source": [
    "### Remarks:\n",
    "- Create readable graphs by providing appropriate ticks, labels, titles, colorbars, legends\n",
    "- [Hint] A possible [function](https://matplotlib.org/stable/api/_as_gen/matplotlib.axes.Axes.fill_between.html#matplotlib.axes.Axes.fill_between) to fill areas between lines\n",
    "- [Optional] If you are ambitous, you can use subplots to also include the left part of the figure, which shows the percentages as below\n",
    " <img src=\"Images/Transit_changes_text.png\" alt=\"drawing\" width=\"200\"/>"
   ]
  },
  {
   "cell_type": "code",
   "execution_count": 57,
   "metadata": {},
   "outputs": [
    {
     "name": "stdout",
     "output_type": "stream",
     "text": [
      "0      2020/2/15\n",
      "1      2020/2/16\n",
      "2      2020/2/17\n",
      "3      2020/2/18\n",
      "4      2020/2/19\n",
      "         ...    \n",
      "560    2021/8/28\n",
      "561    2021/8/29\n",
      "562    2021/8/30\n",
      "563    2021/8/31\n",
      "564     2021/9/1\n",
      "Name: date, Length: 565, dtype: object\n"
     ]
    },
    {
     "name": "stderr",
     "output_type": "stream",
     "text": [
      "<ipython-input-57-bbe1c9e88887>:12: SettingWithCopyWarning: \n",
      "A value is trying to be set on a copy of a slice from a DataFrame.\n",
      "Try using .loc[row_indexer,col_indexer] = value instead\n",
      "\n",
      "See the caveats in the documentation: https://pandas.pydata.org/pandas-docs/stable/user_guide/indexing.html#returning-a-view-versus-a-copy\n",
      "  df_province_selected['date2'] = date2     # Adding an extra colunm date2.\n"
     ]
    },
    {
     "ename": "AttributeError",
     "evalue": "'str' object has no attribute 'weekday'",
     "output_type": "error",
     "traceback": [
      "\u001b[1;31m---------------------------------------------------------------------------\u001b[0m",
      "\u001b[1;31mAttributeError\u001b[0m                            Traceback (most recent call last)",
      "\u001b[1;32m<ipython-input-57-bbe1c9e88887>\u001b[0m in \u001b[0;36m<module>\u001b[1;34m\u001b[0m\n\u001b[0;32m     55\u001b[0m     \u001b[0mdate_i\u001b[0m \u001b[1;33m=\u001b[0m \u001b[0msplit_i\u001b[0m\u001b[1;33m[\u001b[0m\u001b[1;36m2\u001b[0m\u001b[1;33m]\u001b[0m\u001b[1;33m\u001b[0m\u001b[1;33m\u001b[0m\u001b[0m\n\u001b[0;32m     56\u001b[0m     \u001b[0mdate_name\u001b[0m \u001b[1;33m=\u001b[0m \u001b[0mint\u001b[0m\u001b[1;33m(\u001b[0m\u001b[0mdate_i\u001b[0m\u001b[1;33m)\u001b[0m\u001b[1;33m\u001b[0m\u001b[1;33m\u001b[0m\u001b[0m\n\u001b[1;32m---> 57\u001b[1;33m     \u001b[0mweekday_i\u001b[0m \u001b[1;33m=\u001b[0m \u001b[0mi\u001b[0m\u001b[1;33m.\u001b[0m\u001b[0mweekday\u001b[0m\u001b[1;33m(\u001b[0m\u001b[1;33m)\u001b[0m\u001b[1;33m\u001b[0m\u001b[1;33m\u001b[0m\u001b[0m\n\u001b[0m\u001b[0;32m     58\u001b[0m     \u001b[0mweekday_name\u001b[0m \u001b[1;33m=\u001b[0m \u001b[0mweekday_dict\u001b[0m\u001b[1;33m[\u001b[0m\u001b[0mweekday_i\u001b[0m\u001b[1;33m]\u001b[0m\u001b[1;33m\u001b[0m\u001b[1;33m\u001b[0m\u001b[0m\n\u001b[0;32m     59\u001b[0m \u001b[1;33m\u001b[0m\u001b[0m\n",
      "\u001b[1;31mAttributeError\u001b[0m: 'str' object has no attribute 'weekday'"
     ]
    }
   ],
   "source": [
    "# YOUR CODE HERE\n",
    "\n",
    "file_path = 'D:\\TUD\\MSc1q1\\TIL6010 TIL Programming\\Assignment1\\Region_Mobility_Report_CSVs\\GB_province.csv'\n",
    "df_province = pd.read_csv(file_path) \n",
    "\n",
    "df_province_selected = df_province.loc[df_province['sub_region_1'] == 'Aberdeen City']    # Choosing a city and getting the dataframe.\n",
    "df_province_selected.reset_index(drop=True,inplace=True)   # Reorder the index.\n",
    "\n",
    "\n",
    "date1 =df_province_selected['date']       # Obtaining string dates.\n",
    "date2 = pd.to_datetime(date1)    # Converting to timestamp type.\n",
    "df_province_selected['date2'] = date2     # Adding an extra colunm date2.\n",
    "\n",
    "weekday_dict = {\n",
    "  1: \"Mon\",\n",
    "  2: \"Tue\",\n",
    "  3: \"Wed\",\n",
    "  4: \"Thu\",\n",
    "  5: \"Fri\",\n",
    "  6: \"Sat\",\n",
    "  0: \"Sun\"\n",
    "}\n",
    "\n",
    "month_dict = {\n",
    "  1: \"Jan\",\n",
    "  2: \"Feb\",\n",
    "  3: \"Mar\",\n",
    "  4: \"Apr\",\n",
    "  5: \"May\",\n",
    "  6: \"Jun\",\n",
    "  7: \"Jul\",\n",
    "  8: \"Aug\",\n",
    "  9: \"Sep\",\n",
    "  10: \"Oct\",\n",
    "  11: \"Nov\",\n",
    "  12: \"Dec\"\n",
    "}\n",
    "\n",
    "\n",
    "\n",
    "date_list = []\n",
    "\n",
    "for j in date2:\n",
    "    weekday_j = j.weekday()\n",
    "    weekday_name = weekday_dict[week_j]\n",
    "    weekday_list.append(weekday_name)\n",
    "\n",
    "print(date1)\n",
    "for i in date1:\n",
    "    split_i = i.split('/')\n",
    "    month_i = split_i[1]\n",
    "    month_name = month_dict[int(month_i)]\n",
    "    date_i = split_i[2]\n",
    "    date_name = int(date_i)\n",
    "   \n",
    "\n",
    "\n",
    "print(weekday_list)\n",
    "\n",
    "\n",
    "#Code to visualise the raw data and sampled data\n",
    "fig, ax = plt.subplots(figsize=(12,12))\n",
    "ax.set_title('workplaces_percent_change_from_baseline')\n",
    "sns.lineplot(x='date2', y='workplaces_percent_change_from_baseline', data=df_province_selected, label='daily', ax=ax)\n",
    "\n",
    "\n",
    "\n",
    "\n",
    "\n",
    "plt.show()\n",
    "\n",
    "\n",
    "print(df_province_selected)\n",
    "\n",
    "\n"
   ]
  },
  {
   "cell_type": "markdown",
   "metadata": {
    "heading_collapsed": true
   },
   "source": [
    "## Multiple lines in the same plot\n",
    "\n",
    "In the previous question, you created a figure for a single city/province. Now, include multiple cities or provinces in a single figure. This time, make the diagram interactive, such as being be to select/deselect particular cities/provinces.\n"
   ]
  },
  {
   "cell_type": "markdown",
   "metadata": {
    "heading_collapsed": true,
    "hidden": true
   },
   "source": [
    "### Remarks\n",
    "\n",
    "- You donot need to fill areas between the lines for the multiple lines plot here\n",
    "- [Hint] If you are to use plotly express, you can use `color` argument in [px.line](https://plotly.com/python-api-reference/generated/plotly.express.line)\n"
   ]
  },
  {
   "cell_type": "code",
   "execution_count": 2,
   "metadata": {
    "hidden": true
   },
   "outputs": [],
   "source": [
    "# YOUR CODE HERE\n"
   ]
  },
  {
   "cell_type": "markdown",
   "metadata": {
    "heading_collapsed": true
   },
   "source": [
    "## Geospatial choropleth\n",
    "\n",
    "Visualise the percentage changes from the baseline at either city-level or province-level in a geographical map for a chosen day.\n",
    "\n",
    "[Hint] Here is an example of municipal boundaries of Netherlands. You can download the municipal boundaries of Netherlands from this [link](https://geodata.nationaalgeoregister.nl/cbsgebiedsindelingen/wfs?request=GetFeature&service=WFS&version=2.0.0&typeName=cbs_gemeente_2017_gegeneraliseerd&outputFormat=json) and here is some [code](https://www.cbs.nl/en-gb/onze-diensten/open-data/statline-as-open-data/cartography) to read this file as well.\n",
    "\n",
    "If you cannot find the boundary of your selected country. Feel free to use Netherlands data for this question.\n",
    "\n",
    "DO NOT forget to label the appropriate axes for the visualisations\n",
    "\n",
    "[Optional] Plot and animate for multiple days"
   ]
  },
  {
   "cell_type": "code",
   "execution_count": 3,
   "metadata": {
    "hidden": true
   },
   "outputs": [],
   "source": [
    "# YOUR CODE HERE\n"
   ]
  }
 ],
 "metadata": {
  "interpreter": {
   "hash": "aee8b7b246df8f9039afb4144a1f6fd8d2ca17a180786b69acc140d282b71a49"
  },
  "kernelspec": {
   "display_name": "Python 3",
   "language": "python",
   "name": "python3"
  },
  "language_info": {
   "codemirror_mode": {
    "name": "ipython",
    "version": 3
   },
   "file_extension": ".py",
   "mimetype": "text/x-python",
   "name": "python",
   "nbconvert_exporter": "python",
   "pygments_lexer": "ipython3",
   "version": "3.8.8"
  }
 },
 "nbformat": 4,
 "nbformat_minor": 2
}
